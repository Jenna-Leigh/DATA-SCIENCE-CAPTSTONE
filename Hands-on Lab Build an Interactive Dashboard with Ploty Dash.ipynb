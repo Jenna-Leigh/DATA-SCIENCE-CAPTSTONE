{
 "cells": [
  {
   "cell_type": "code",
   "execution_count": 1,
   "id": "a9a40f9b",
   "metadata": {},
   "outputs": [
    {
     "name": "stdout",
     "output_type": "stream",
     "text": [
      "Requirement already satisfied: dash in c:\\users\\gthem\\anaconda3\\lib\\site-packages (1.19.0)\n",
      "Requirement already satisfied: future in c:\\users\\gthem\\anaconda3\\lib\\site-packages (from dash) (0.18.2)\n",
      "Requirement already satisfied: dash-table==4.11.2 in c:\\users\\gthem\\anaconda3\\lib\\site-packages (from dash) (4.11.2)\n",
      "Requirement already satisfied: dash-core-components==1.15.0 in c:\\users\\gthem\\anaconda3\\lib\\site-packages (from dash) (1.15.0)\n",
      "Requirement already satisfied: plotly in c:\\users\\gthem\\anaconda3\\lib\\site-packages (from dash) (5.14.0)\n",
      "Requirement already satisfied: dash-html-components==1.1.2 in c:\\users\\gthem\\anaconda3\\lib\\site-packages (from dash) (1.1.2)\n",
      "Requirement already satisfied: flask-compress in c:\\users\\gthem\\anaconda3\\lib\\site-packages (from dash) (1.13)\n",
      "Requirement already satisfied: dash-renderer==1.9.0 in c:\\users\\gthem\\anaconda3\\lib\\site-packages (from dash) (1.9.0)\n",
      "Requirement already satisfied: Flask>=1.0.4 in c:\\users\\gthem\\anaconda3\\lib\\site-packages (from dash) (1.1.2)\n",
      "Requirement already satisfied: itsdangerous>=0.24 in c:\\users\\gthem\\anaconda3\\lib\\site-packages (from Flask>=1.0.4->dash) (2.0.1)\n",
      "Requirement already satisfied: Jinja2>=2.10.1 in c:\\users\\gthem\\anaconda3\\lib\\site-packages (from Flask>=1.0.4->dash) (2.11.3)\n",
      "Requirement already satisfied: click>=5.1 in c:\\users\\gthem\\anaconda3\\lib\\site-packages (from Flask>=1.0.4->dash) (8.0.4)\n",
      "Requirement already satisfied: Werkzeug>=0.15 in c:\\users\\gthem\\anaconda3\\lib\\site-packages (from Flask>=1.0.4->dash) (2.0.3)\n",
      "Requirement already satisfied: brotli in c:\\users\\gthem\\anaconda3\\lib\\site-packages (from flask-compress->dash) (1.0.9)\n",
      "Requirement already satisfied: tenacity>=6.2.0 in c:\\users\\gthem\\anaconda3\\lib\\site-packages (from plotly->dash) (8.0.1)\n",
      "Requirement already satisfied: packaging in c:\\users\\gthem\\anaconda3\\lib\\site-packages (from plotly->dash) (21.3)\n",
      "Requirement already satisfied: colorama in c:\\users\\gthem\\anaconda3\\lib\\site-packages (from click>=5.1->Flask>=1.0.4->dash) (0.4.5)\n",
      "Requirement already satisfied: MarkupSafe>=0.23 in c:\\users\\gthem\\anaconda3\\lib\\site-packages (from Jinja2>=2.10.1->Flask>=1.0.4->dash) (2.0.1)\n",
      "Requirement already satisfied: pyparsing!=3.0.5,>=2.0.2 in c:\\users\\gthem\\anaconda3\\lib\\site-packages (from packaging->plotly->dash) (3.0.9)\n",
      "Requirement already satisfied: dash==1.19.0 in c:\\users\\gthem\\anaconda3\\lib\\site-packages (1.19.0)\n",
      "Requirement already satisfied: dash-table==4.11.2 in c:\\users\\gthem\\anaconda3\\lib\\site-packages (from dash==1.19.0) (4.11.2)\n",
      "Requirement already satisfied: dash-html-components==1.1.2 in c:\\users\\gthem\\anaconda3\\lib\\site-packages (from dash==1.19.0) (1.1.2)\n",
      "Requirement already satisfied: future in c:\\users\\gthem\\anaconda3\\lib\\site-packages (from dash==1.19.0) (0.18.2)\n",
      "Requirement already satisfied: flask-compress in c:\\users\\gthem\\anaconda3\\lib\\site-packages (from dash==1.19.0) (1.13)\n",
      "Requirement already satisfied: dash-core-components==1.15.0 in c:\\users\\gthem\\anaconda3\\lib\\site-packages (from dash==1.19.0) (1.15.0)\n",
      "Requirement already satisfied: plotly in c:\\users\\gthem\\anaconda3\\lib\\site-packages (from dash==1.19.0) (5.14.0)\n",
      "Requirement already satisfied: Flask>=1.0.4 in c:\\users\\gthem\\anaconda3\\lib\\site-packages (from dash==1.19.0) (1.1.2)\n",
      "Requirement already satisfied: dash-renderer==1.9.0 in c:\\users\\gthem\\anaconda3\\lib\\site-packages (from dash==1.19.0) (1.9.0)\n",
      "Requirement already satisfied: Werkzeug>=0.15 in c:\\users\\gthem\\anaconda3\\lib\\site-packages (from Flask>=1.0.4->dash==1.19.0) (2.0.3)\n",
      "Requirement already satisfied: click>=5.1 in c:\\users\\gthem\\anaconda3\\lib\\site-packages (from Flask>=1.0.4->dash==1.19.0) (8.0.4)\n",
      "Requirement already satisfied: Jinja2>=2.10.1 in c:\\users\\gthem\\anaconda3\\lib\\site-packages (from Flask>=1.0.4->dash==1.19.0) (2.11.3)\n",
      "Requirement already satisfied: itsdangerous>=0.24 in c:\\users\\gthem\\anaconda3\\lib\\site-packages (from Flask>=1.0.4->dash==1.19.0) (2.0.1)\n",
      "Requirement already satisfied: brotli in c:\\users\\gthem\\anaconda3\\lib\\site-packages (from flask-compress->dash==1.19.0) (1.0.9)\n",
      "Requirement already satisfied: packaging in c:\\users\\gthem\\anaconda3\\lib\\site-packages (from plotly->dash==1.19.0) (21.3)\n",
      "Requirement already satisfied: tenacity>=6.2.0 in c:\\users\\gthem\\anaconda3\\lib\\site-packages (from plotly->dash==1.19.0) (8.0.1)\n",
      "Requirement already satisfied: colorama in c:\\users\\gthem\\anaconda3\\lib\\site-packages (from click>=5.1->Flask>=1.0.4->dash==1.19.0) (0.4.5)\n",
      "Requirement already satisfied: MarkupSafe>=0.23 in c:\\users\\gthem\\anaconda3\\lib\\site-packages (from Jinja2>=2.10.1->Flask>=1.0.4->dash==1.19.0) (2.0.1)\n",
      "Requirement already satisfied: pyparsing!=3.0.5,>=2.0.2 in c:\\users\\gthem\\anaconda3\\lib\\site-packages (from packaging->plotly->dash==1.19.0) (3.0.9)\n",
      "Requirement already satisfied: jupyter_dash in c:\\users\\gthem\\anaconda3\\lib\\site-packages (0.4.2)\n",
      "Requirement already satisfied: ansi2html in c:\\users\\gthem\\anaconda3\\lib\\site-packages (from jupyter_dash) (1.8.0)\n",
      "Requirement already satisfied: ipython in c:\\users\\gthem\\anaconda3\\lib\\site-packages (from jupyter_dash) (7.31.1)\n",
      "Requirement already satisfied: nest-asyncio in c:\\users\\gthem\\anaconda3\\lib\\site-packages (from jupyter_dash) (1.5.5)\n",
      "Requirement already satisfied: requests in c:\\users\\gthem\\anaconda3\\lib\\site-packages (from jupyter_dash) (2.28.1)\n",
      "Requirement already satisfied: dash in c:\\users\\gthem\\anaconda3\\lib\\site-packages (from jupyter_dash) (1.19.0)\n",
      "Requirement already satisfied: flask in c:\\users\\gthem\\anaconda3\\lib\\site-packages (from jupyter_dash) (1.1.2)\n",
      "Requirement already satisfied: retrying in c:\\users\\gthem\\anaconda3\\lib\\site-packages (from jupyter_dash) (1.3.4)\n",
      "Requirement already satisfied: ipykernel in c:\\users\\gthem\\anaconda3\\lib\\site-packages (from jupyter_dash) (6.15.2)\n",
      "Requirement already satisfied: dash-core-components==1.15.0 in c:\\users\\gthem\\anaconda3\\lib\\site-packages (from dash->jupyter_dash) (1.15.0)\n",
      "Requirement already satisfied: dash-table==4.11.2 in c:\\users\\gthem\\anaconda3\\lib\\site-packages (from dash->jupyter_dash) (4.11.2)\n",
      "Requirement already satisfied: dash-html-components==1.1.2 in c:\\users\\gthem\\anaconda3\\lib\\site-packages (from dash->jupyter_dash) (1.1.2)\n",
      "Requirement already satisfied: flask-compress in c:\\users\\gthem\\anaconda3\\lib\\site-packages (from dash->jupyter_dash) (1.13)\n",
      "Requirement already satisfied: dash-renderer==1.9.0 in c:\\users\\gthem\\anaconda3\\lib\\site-packages (from dash->jupyter_dash) (1.9.0)\n",
      "Requirement already satisfied: plotly in c:\\users\\gthem\\anaconda3\\lib\\site-packages (from dash->jupyter_dash) (5.14.0)\n",
      "Requirement already satisfied: future in c:\\users\\gthem\\anaconda3\\lib\\site-packages (from dash->jupyter_dash) (0.18.2)\n",
      "Requirement already satisfied: Werkzeug>=0.15 in c:\\users\\gthem\\anaconda3\\lib\\site-packages (from flask->jupyter_dash) (2.0.3)\n",
      "Requirement already satisfied: Jinja2>=2.10.1 in c:\\users\\gthem\\anaconda3\\lib\\site-packages (from flask->jupyter_dash) (2.11.3)\n",
      "Requirement already satisfied: click>=5.1 in c:\\users\\gthem\\anaconda3\\lib\\site-packages (from flask->jupyter_dash) (8.0.4)\n",
      "Requirement already satisfied: itsdangerous>=0.24 in c:\\users\\gthem\\anaconda3\\lib\\site-packages (from flask->jupyter_dash) (2.0.1)\n",
      "Requirement already satisfied: debugpy>=1.0 in c:\\users\\gthem\\anaconda3\\lib\\site-packages (from ipykernel->jupyter_dash) (1.5.1)\n",
      "Requirement already satisfied: pyzmq>=17 in c:\\users\\gthem\\anaconda3\\lib\\site-packages (from ipykernel->jupyter_dash) (23.2.0)\n",
      "Requirement already satisfied: traitlets>=5.1.0 in c:\\users\\gthem\\anaconda3\\lib\\site-packages (from ipykernel->jupyter_dash) (5.1.1)\n",
      "Requirement already satisfied: tornado>=6.1 in c:\\users\\gthem\\anaconda3\\lib\\site-packages (from ipykernel->jupyter_dash) (6.1)\n",
      "Requirement already satisfied: jupyter-client>=6.1.12 in c:\\users\\gthem\\anaconda3\\lib\\site-packages (from ipykernel->jupyter_dash) (7.3.4)\n",
      "Requirement already satisfied: matplotlib-inline>=0.1 in c:\\users\\gthem\\anaconda3\\lib\\site-packages (from ipykernel->jupyter_dash) (0.1.6)\n",
      "Requirement already satisfied: packaging in c:\\users\\gthem\\anaconda3\\lib\\site-packages (from ipykernel->jupyter_dash) (21.3)\n",
      "Requirement already satisfied: psutil in c:\\users\\gthem\\anaconda3\\lib\\site-packages (from ipykernel->jupyter_dash) (5.9.0)\n",
      "Requirement already satisfied: decorator in c:\\users\\gthem\\anaconda3\\lib\\site-packages (from ipython->jupyter_dash) (5.1.1)\n",
      "Requirement already satisfied: jedi>=0.16 in c:\\users\\gthem\\anaconda3\\lib\\site-packages (from ipython->jupyter_dash) (0.18.1)\n",
      "Requirement already satisfied: backcall in c:\\users\\gthem\\anaconda3\\lib\\site-packages (from ipython->jupyter_dash) (0.2.0)\n",
      "Requirement already satisfied: pickleshare in c:\\users\\gthem\\anaconda3\\lib\\site-packages (from ipython->jupyter_dash) (0.7.5)\n",
      "Requirement already satisfied: colorama in c:\\users\\gthem\\anaconda3\\lib\\site-packages (from ipython->jupyter_dash) (0.4.5)\n",
      "Requirement already satisfied: prompt-toolkit!=3.0.0,!=3.0.1,<3.1.0,>=2.0.0 in c:\\users\\gthem\\anaconda3\\lib\\site-packages (from ipython->jupyter_dash) (3.0.20)\n",
      "Requirement already satisfied: pygments in c:\\users\\gthem\\anaconda3\\lib\\site-packages (from ipython->jupyter_dash) (2.11.2)\n",
      "Requirement already satisfied: setuptools>=18.5 in c:\\users\\gthem\\anaconda3\\lib\\site-packages (from ipython->jupyter_dash) (63.4.1)\n",
      "Requirement already satisfied: urllib3<1.27,>=1.21.1 in c:\\users\\gthem\\anaconda3\\lib\\site-packages (from requests->jupyter_dash) (1.26.11)\n",
      "Requirement already satisfied: certifi>=2017.4.17 in c:\\users\\gthem\\anaconda3\\lib\\site-packages (from requests->jupyter_dash) (2022.9.14)\n",
      "Requirement already satisfied: idna<4,>=2.5 in c:\\users\\gthem\\anaconda3\\lib\\site-packages (from requests->jupyter_dash) (3.3)\n",
      "Requirement already satisfied: charset-normalizer<3,>=2 in c:\\users\\gthem\\anaconda3\\lib\\site-packages (from requests->jupyter_dash) (2.0.4)\n",
      "Requirement already satisfied: six>=1.7.0 in c:\\users\\gthem\\anaconda3\\lib\\site-packages (from retrying->jupyter_dash) (1.16.0)\n",
      "Requirement already satisfied: parso<0.9.0,>=0.8.0 in c:\\users\\gthem\\anaconda3\\lib\\site-packages (from jedi>=0.16->ipython->jupyter_dash) (0.8.3)\n",
      "Requirement already satisfied: MarkupSafe>=0.23 in c:\\users\\gthem\\anaconda3\\lib\\site-packages (from Jinja2>=2.10.1->flask->jupyter_dash) (2.0.1)\n",
      "Requirement already satisfied: jupyter-core>=4.9.2 in c:\\users\\gthem\\anaconda3\\lib\\site-packages (from jupyter-client>=6.1.12->ipykernel->jupyter_dash) (4.11.1)\n",
      "Requirement already satisfied: entrypoints in c:\\users\\gthem\\anaconda3\\lib\\site-packages (from jupyter-client>=6.1.12->ipykernel->jupyter_dash) (0.4)\n",
      "Requirement already satisfied: python-dateutil>=2.8.2 in c:\\users\\gthem\\anaconda3\\lib\\site-packages (from jupyter-client>=6.1.12->ipykernel->jupyter_dash) (2.8.2)\n",
      "Requirement already satisfied: wcwidth in c:\\users\\gthem\\anaconda3\\lib\\site-packages (from prompt-toolkit!=3.0.0,!=3.0.1,<3.1.0,>=2.0.0->ipython->jupyter_dash) (0.2.5)\n",
      "Requirement already satisfied: brotli in c:\\users\\gthem\\anaconda3\\lib\\site-packages (from flask-compress->dash->jupyter_dash) (1.0.9)\n",
      "Requirement already satisfied: pyparsing!=3.0.5,>=2.0.2 in c:\\users\\gthem\\anaconda3\\lib\\site-packages (from packaging->ipykernel->jupyter_dash) (3.0.9)\n",
      "Requirement already satisfied: tenacity>=6.2.0 in c:\\users\\gthem\\anaconda3\\lib\\site-packages (from plotly->dash->jupyter_dash) (8.0.1)\n",
      "Requirement already satisfied: pywin32>=1.0 in c:\\users\\gthem\\anaconda3\\lib\\site-packages (from jupyter-core>=4.9.2->jupyter-client>=6.1.12->ipykernel->jupyter_dash) (302)\n",
      "Requirement already satisfied: plotly in c:\\users\\gthem\\anaconda3\\lib\\site-packages (5.14.0)\n",
      "Requirement already satisfied: packaging in c:\\users\\gthem\\anaconda3\\lib\\site-packages (from plotly) (21.3)\n",
      "Requirement already satisfied: tenacity>=6.2.0 in c:\\users\\gthem\\anaconda3\\lib\\site-packages (from plotly) (8.0.1)\n",
      "Requirement already satisfied: pyparsing!=3.0.5,>=2.0.2 in c:\\users\\gthem\\anaconda3\\lib\\site-packages (from packaging->plotly) (3.0.9)\n"
     ]
    }
   ],
   "source": [
    "!pip install dash\n",
    "!pip install dash==1.19.0\n",
    "!pip install jupyter_dash\n",
    "!pip install --upgrade plotly"
   ]
  },
  {
   "cell_type": "code",
   "execution_count": 1,
   "id": "d8ab39b4",
   "metadata": {},
   "outputs": [],
   "source": [
    "from jupyter_dash.comms import _send_jupyter_config_comm_request\n",
    "_send_jupyter_config_comm_request()"
   ]
  },
  {
   "cell_type": "code",
   "execution_count": 2,
   "id": "17924993",
   "metadata": {},
   "outputs": [],
   "source": [
    "import pandas as pd\n",
    "import dash\n",
    "import dash_html_components as html\n",
    "import dash_core_components as dcc\n",
    "from dash.dependencies import Input, Output, State\n",
    "from jupyter_dash import JupyterDash\n",
    "import plotly.graph_objects as go\n",
    "import plotly.express as px\n",
    "from dash import no_update\n"
   ]
  },
  {
   "cell_type": "code",
   "execution_count": 4,
   "id": "87e18ffc",
   "metadata": {},
   "outputs": [],
   "source": [
    "JupyterDash.infer_jupyter_proxy_config()"
   ]
  },
  {
   "cell_type": "code",
   "execution_count": 6,
   "id": "c856d582",
   "metadata": {},
   "outputs": [],
   "source": [
    "JupyterDash.infer_jupyter_proxy_config()"
   ]
  },
  {
   "cell_type": "code",
   "execution_count": 7,
   "id": "a12e5566",
   "metadata": {},
   "outputs": [],
   "source": [
    "spacex_df=pd.read_csv('https://cf-courses-data.s3.us.cloud-object-storage.appdomain.cloud/IBM-DS0321EN-SkillsNetwork/datasets/spacex_launch_dash.csv')"
   ]
  },
  {
   "cell_type": "code",
   "execution_count": 8,
   "id": "2465463e",
   "metadata": {},
   "outputs": [],
   "source": [
    "max_payload = spacex_df['Payload Mass (kg)'].max()\n",
    "min_payload = spacex_df['Payload Mass (kg)'].min()\n"
   ]
  },
  {
   "cell_type": "code",
   "execution_count": 9,
   "id": "8acfa5ec",
   "metadata": {},
   "outputs": [],
   "source": [
    "app = JupyterDash(__name__)"
   ]
  },
  {
   "cell_type": "code",
   "execution_count": 10,
   "id": "57b8f0ca",
   "metadata": {},
   "outputs": [],
   "source": [
    "app.layout = html.Div(children=[\n",
    "    html.H1('SpaceX Launch Records Dashboard',\n",
    "            style={'textAlign': 'center',\n",
    "                   'color': '#503D36',\n",
    "                   'font-size': 40}\n",
    "            ),\n",
    "    dcc.Dropdown(id='site-dropdown',\n",
    "                 options=[{'label': 'ALL SITES', 'value': 'ALL'},\n",
    "                          {'label': 'CCAFS LC-40', 'value': 'CCAFS LC-40'},\n",
    "                          {'label': 'VAFB SLC-4E', 'value': 'VAFB SLC-4E'},\n",
    "                          {'label': 'KSC LC-39A', 'value': 'KSC LC-39A'},\n",
    "                          {'label': 'CCAFS SLC-40', 'value': 'CCAFS SLC-40'}\n",
    "                          ],\n",
    "                 value='ALL',\n",
    "                 placeholder=\"Select a Launch Site here\",\n",
    "                 searchable=True\n",
    "                 ),\n",
    "    html.Br(),\n",
    "\n",
    "    # TASK 2: Add a pie chart to show the total successful launches count for all sites\n",
    "    # If a specific launch site was selected, show the Success vs. Failed counts for the site\n",
    "    html.Div(dcc.Graph(id='success-pie-chart')),\n",
    "    html.Br(),\n",
    "\n",
    "    html.P(\"Payload range (Kg):\"),\n",
    "\n",
    "    # TASK 3: Add a slider to select payload range\n",
    "    dcc.RangeSlider(id='payload-slider',\n",
    "                    min=0, max=10000, step=1000,\n",
    "                    value=[min_payload, max_payload],\n",
    "                    marks={0: '0', 2500: '2500', 5000: '5000',\n",
    "                           7500: '7500', 10000: '10000'}\n",
    "                    ),\n",
    "\n",
    "    # TASK 4: Add a scatter chart to show the correlation between payload and launch success\n",
    "    html.Div(dcc.Graph(id='success-payload-scatter-chart'))\n",
    "])\n"
   ]
  },
  {
   "cell_type": "code",
   "execution_count": 11,
   "id": "b1963b33",
   "metadata": {},
   "outputs": [],
   "source": [
    "@app.callback(\n",
    "    Output(component_id='success-pie-chart', component_property='figure'),\n",
    "    Input(component_id='site-dropdown', component_property='value'))\n",
    "\n",
    "def build_graph(site_dropdown):\n",
    "    if site_dropdown == 'ALL':\n",
    "        piechart = px.pie(data_frame = spacex_df, names='Launch Site', values='class' ,title='Total Launches for All Sites')\n",
    "        return piechart\n",
    "    else:\n",
    "        specific_df=spacex_df.loc[spacex_df['Launch Site'] == site_dropdown]\n",
    "        piechart = px.pie(data_frame = specific_df, names='class',title='Total Launch for a Specific Site')\n",
    "        return piechart\n"
   ]
  },
  {
   "cell_type": "code",
   "execution_count": 12,
   "id": "2a24b417",
   "metadata": {},
   "outputs": [],
   "source": [
    "@app.callback(\n",
    "    Output(component_id='success-payload-scatter-chart', component_property='figure'),\n",
    "    [Input(component_id='site-dropdown', component_property='value'),\n",
    "    Input(component_id='payload-slider', component_property='value')])\n",
    "\n",
    "def update_graph(site_dropdown, payload_slider):\n",
    "    if site_dropdown == 'ALL':\n",
    "        filtered_data = spacex_df[(spacex_df['Payload Mass (kg)']>=payload_slider[0])\n",
    "        &(spacex_df['Payload Mass (kg)']<=payload_slider[1])]\n",
    "        scatterplot = px.scatter(data_frame=filtered_data, x=\"Payload Mass (kg)\", y=\"class\", \n",
    "        color=\"Booster Version Category\")\n",
    "        return scatterplot\n",
    "    else:\n",
    "        specific_df=spacex_df.loc[spacex_df['Launch Site'] == site_dropdown]\n",
    "        filtered_data = specific_df[(specific_df['Payload Mass (kg)']>=payload_slider[0])\n",
    "        &(spacex_df['Payload Mass (kg)']<=payload_slider[1])]\n",
    "        scatterplot = px.scatter(data_frame=filtered_data, x=\"Payload Mass (kg)\", y=\"class\", \n",
    "        color=\"Booster Version Category\")\n",
    "        return "
   ]
  },
  {
   "cell_type": "code",
   "execution_count": 13,
   "id": "e452bf51",
   "metadata": {},
   "outputs": [
    {
     "name": "stdout",
     "output_type": "stream",
     "text": [
      "Dash app running on http://127.0.0.1:8050/\n"
     ]
    }
   ],
   "source": [
    "if __name__ == '__main__':\n",
    "    app.run_server()\n"
   ]
  },
  {
   "cell_type": "code",
   "execution_count": null,
   "id": "5abca931",
   "metadata": {},
   "outputs": [],
   "source": []
  }
 ],
 "metadata": {
  "kernelspec": {
   "display_name": "Python 3 (ipykernel)",
   "language": "python",
   "name": "python3"
  },
  "language_info": {
   "codemirror_mode": {
    "name": "ipython",
    "version": 3
   },
   "file_extension": ".py",
   "mimetype": "text/x-python",
   "name": "python",
   "nbconvert_exporter": "python",
   "pygments_lexer": "ipython3",
   "version": "3.9.13"
  }
 },
 "nbformat": 4,
 "nbformat_minor": 5
}
